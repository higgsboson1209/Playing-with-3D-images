{
  "nbformat": 4,
  "nbformat_minor": 0,
  "metadata": {
    "colab": {
      "name": "Slicing 3D Image.ipynb",
      "provenance": [],
      "authorship_tag": "ABX9TyMu5t8EhF0/oOiEVilFcWwH",
      "include_colab_link": true
    },
    "kernelspec": {
      "name": "python3",
      "display_name": "Python 3"
    }
  },
  "cells": [
    {
      "cell_type": "markdown",
      "metadata": {
        "id": "view-in-github",
        "colab_type": "text"
      },
      "source": [
        "<a href=\"https://colab.research.google.com/github/higgsboson1209/Playing-with-3D-images/blob/main/Slicing_3D_Image.ipynb\" target=\"_parent\"><img src=\"https://colab.research.google.com/assets/colab-badge.svg\" alt=\"Open In Colab\"/></a>"
      ]
    },
    {
      "cell_type": "markdown",
      "metadata": {
        "id": "N_M7RkAK10XK"
      },
      "source": [
        "Importing already installed simpleITK for getting slices so you don't have to run pip install again and again "
      ]
    },
    {
      "cell_type": "code",
      "metadata": {
        "id": "jql0Gc6myRaJ",
        "outputId": "2ab37c5c-e20c-4e6c-d705-4082a7e3d832",
        "colab": {
          "base_uri": "https://localhost:8080/"
        }
      },
      "source": [
        "\n",
        "import os, sys\n",
        "from google.colab import drive\n",
        "drive.mount('/content/drive')\n",
        "nb_path = '/content/notebooks'\n",
        "os.symlink('/content/drive/My Drive/Colab Notebooks', nb_path)\n",
        "sys.path.insert(0,nb_path)"
      ],
      "execution_count": 1,
      "outputs": [
        {
          "output_type": "stream",
          "text": [
            "Mounted at /content/drive\n"
          ],
          "name": "stdout"
        }
      ]
    },
    {
      "cell_type": "markdown",
      "metadata": {
        "id": "VS9YYOS82txj"
      },
      "source": [
        "Importing Libraries used for reading and displaying the slice "
      ]
    },
    {
      "cell_type": "code",
      "metadata": {
        "id": "pMCBcXrSb8JU"
      },
      "source": [
        "import SimpleITK as sitk"
      ],
      "execution_count": 3,
      "outputs": []
    },
    {
      "cell_type": "code",
      "metadata": {
        "id": "hup-iq4xghXC"
      },
      "source": [
        "import matplotlib.pyplot as plt\n",
        "import matplotlib.image as mpimg"
      ],
      "execution_count": 4,
      "outputs": []
    },
    {
      "cell_type": "code",
      "metadata": {
        "id": "hkKCYXZhyoOt"
      },
      "source": [
        "import numpy as np"
      ],
      "execution_count": 5,
      "outputs": []
    },
    {
      "cell_type": "markdown",
      "metadata": {
        "id": "jNZBtYn22HyT"
      },
      "source": [
        "Reading the raw file using nhrd to read the image into a 3D numpy array "
      ]
    },
    {
      "cell_type": "code",
      "metadata": {
        "id": "91CQJH8zcCZF"
      },
      "source": [
        "vol = sitk.ReadImage(\"/content/drive/My Drive/colone_images/prone.nhdr\")\n",
        "vol_numpy = sitk.GetArrayFromImage(vol)"
      ],
      "execution_count": 6,
      "outputs": []
    },
    {
      "cell_type": "markdown",
      "metadata": {
        "id": "VFuvyApY2ZGm"
      },
      "source": [
        "Printing the shape of the volume to check wether the volume has been correctly read or not/ can be verified from the nhdr file "
      ]
    },
    {
      "cell_type": "code",
      "metadata": {
        "id": "UbshXH97crfr",
        "outputId": "4f6b5772-b58b-4f9c-b087-ccad9232cefe",
        "colab": {
          "base_uri": "https://localhost:8080/"
        }
      },
      "source": [
        "vol_numpy.shape"
      ],
      "execution_count": 7,
      "outputs": [
        {
          "output_type": "execute_result",
          "data": {
            "text/plain": [
              "(463, 512, 512)"
            ]
          },
          "metadata": {
            "tags": []
          },
          "execution_count": 7
        }
      ]
    },
    {
      "cell_type": "code",
      "metadata": {
        "id": "P7ZWchGKfu6F"
      },
      "source": [
        "slicee=vol_numpy[:,124,:]"
      ],
      "execution_count": 8,
      "outputs": []
    },
    {
      "cell_type": "code",
      "metadata": {
        "id": "HBYayAmMdKm4",
        "outputId": "016290e2-e62f-4a88-9b32-56815c221c40",
        "colab": {
          "base_uri": "https://localhost:8080/"
        }
      },
      "source": [
        "slicee"
      ],
      "execution_count": 9,
      "outputs": [
        {
          "output_type": "execute_result",
          "data": {
            "text/plain": [
              "array([[0, 0, 0, ..., 0, 0, 0],\n",
              "       [0, 0, 0, ..., 0, 0, 0],\n",
              "       [0, 0, 0, ..., 0, 0, 0],\n",
              "       ...,\n",
              "       [0, 0, 0, ..., 0, 0, 0],\n",
              "       [0, 0, 0, ..., 0, 0, 0],\n",
              "       [0, 0, 0, ..., 0, 0, 0]], dtype=uint16)"
            ]
          },
          "metadata": {
            "tags": []
          },
          "execution_count": 9
        }
      ]
    },
    {
      "cell_type": "code",
      "metadata": {
        "id": "JszkE42qzmIO",
        "outputId": "38cf1ecd-52b6-4320-e43d-97f5a18b4051",
        "colab": {
          "base_uri": "https://localhost:8080/"
        }
      },
      "source": [
        "np.shape(slicee)"
      ],
      "execution_count": 10,
      "outputs": [
        {
          "output_type": "execute_result",
          "data": {
            "text/plain": [
              "(463, 512)"
            ]
          },
          "metadata": {
            "tags": []
          },
          "execution_count": 10
        }
      ]
    },
    {
      "cell_type": "markdown",
      "metadata": {
        "id": "8PNfWdA-3DaR"
      },
      "source": [
        "Visualising the slice "
      ]
    },
    {
      "cell_type": "code",
      "metadata": {
        "id": "Z9HmIb59zBkR"
      },
      "source": [
        "import cv2"
      ],
      "execution_count": 11,
      "outputs": []
    },
    {
      "cell_type": "code",
      "metadata": {
        "id": "_Mjkepo44uph"
      },
      "source": [
        "from google.colab.patches import cv2_imshow"
      ],
      "execution_count": 12,
      "outputs": []
    },
    {
      "cell_type": "code",
      "metadata": {
        "id": "_3x3sr9S57pM"
      },
      "source": [
        "from PIL import Image\n"
      ],
      "execution_count": 13,
      "outputs": []
    },
    {
      "cell_type": "code",
      "metadata": {
        "id": "JGxaL6uWKGCy",
        "outputId": "4b5a4e64-62e1-4cfe-b7fd-9e98bb2e46db",
        "colab": {
          "base_uri": "https://localhost:8080/"
        }
      },
      "source": [
        "slicee"
      ],
      "execution_count": 14,
      "outputs": [
        {
          "output_type": "execute_result",
          "data": {
            "text/plain": [
              "array([[0, 0, 0, ..., 0, 0, 0],\n",
              "       [0, 0, 0, ..., 0, 0, 0],\n",
              "       [0, 0, 0, ..., 0, 0, 0],\n",
              "       ...,\n",
              "       [0, 0, 0, ..., 0, 0, 0],\n",
              "       [0, 0, 0, ..., 0, 0, 0],\n",
              "       [0, 0, 0, ..., 0, 0, 0]], dtype=uint16)"
            ]
          },
          "metadata": {
            "tags": []
          },
          "execution_count": 14
        }
      ]
    },
    {
      "cell_type": "code",
      "metadata": {
        "id": "D3GiYEhHKik1"
      },
      "source": [
        "\n",
        "\n",
        "\n",
        "# map the normalized data to colors\n",
        "# image is now RGBA (512x512x4) \n",
        "\n",
        "# save the image\n",
        "plt.imsave('test.png', slicee,cmap=\"gray\")"
      ],
      "execution_count": 15,
      "outputs": []
    },
    {
      "cell_type": "code",
      "metadata": {
        "id": "Xra2u8qSLUC6",
        "outputId": "98ce2616-f180-4ae9-f9e4-e7b9c38a083a",
        "colab": {
          "base_uri": "https://localhost:8080/",
          "height": 287
        }
      },
      "source": [
        ""
      ],
      "execution_count": 18,
      "outputs": [
        {
          "output_type": "execute_result",
          "data": {
            "text/plain": [
              "<matplotlib.image.AxesImage at 0x7f2d00ef5c88>"
            ]
          },
          "metadata": {
            "tags": []
          },
          "execution_count": 18
        },
        {
          "output_type": "display_data",
          "data": {
            "image/png": "[encoded data removed]",
            "text/plain": [
              "<Figure size 432x288 with 1 Axes>"
            ]
          },
          "metadata": {
            "tags": [],
            "needs_background": "light"
          }
        }
      ]
    },
    {
      "cell_type": "markdown",
      "metadata": {
        "id": "FSeq-u1CNIcF"
      },
      "source": [
        "Saving the obtained image to the drive"
      ]
    },
    {
      "cell_type": "code",
      "metadata": {
        "id": "fkbhB2HdLYgF"
      },
      "source": [
        "!cp test.png \"drive/My Drive/\""
      ],
      "execution_count": 19,
      "outputs": []
    },
    {
      "cell_type": "code",
      "metadata": {
        "id": "eTE6XR7KNNXB"
      },
      "source": [
        ""
      ],
      "execution_count": null,
      "outputs": []
    }
  ]
}
