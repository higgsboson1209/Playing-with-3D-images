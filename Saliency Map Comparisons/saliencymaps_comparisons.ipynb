{
  "nbformat": 4,
  "nbformat_minor": 0,
  "metadata": {
    "colab": {
      "name": "saliencymaps_comparisons.ipynb",
      "provenance": [],
      "collapsed_sections": [],
      "mount_file_id": "1hJwpVkHhIz-WGOGAxgz1-3JBbwjgl8jg",
      "authorship_tag": "ABX9TyNyijwVCFds5HKebdwESavm",
      "include_colab_link": true
    },
    "kernelspec": {
      "display_name": "Python 3",
      "name": "python3"
    }
  },
  "cells": [
    {
      "cell_type": "markdown",
      "metadata": {
        "id": "view-in-github",
        "colab_type": "text"
      },
      "source": [
        "<a href=\"https://colab.research.google.com/github/higgsboson1209/Playing-with-3D-images/blob/main/saliencymaps_comparisons.ipynb\" target=\"_parent\"><img src=\"https://colab.research.google.com/assets/colab-badge.svg\" alt=\"Open In Colab\"/></a>"
      ]
    },
    {
      "cell_type": "code",
      "metadata": {
        "id": "SxyiNskfj8xm"
      },
      "source": [
        "import cv2\n",
        "import numpy as np\n",
        "from google.colab.patches import cv2_imshow"
      ],
      "execution_count": null,
      "outputs": []
    },
    {
      "cell_type": "code",
      "metadata": {
        "id": "CvInCwEU6lyD"
      },
      "source": [
        "import math"
      ],
      "execution_count": null,
      "outputs": []
    },
    {
      "cell_type": "code",
      "metadata": {
        "id": "S8e5zdKEOGD3"
      },
      "source": [
        "import pandas as pd"
      ],
      "execution_count": null,
      "outputs": []
    },
    {
      "cell_type": "code",
      "metadata": {
        "id": "MW-V4a1iAuUA"
      },
      "source": [
        "\n",
        "import matplotlib.pyplot as plt\n",
        "import matplotlib.image as mpimg"
      ],
      "execution_count": null,
      "outputs": []
    },
    {
      "cell_type": "code",
      "metadata": {
        "id": "tKwOuHj3kIfk"
      },
      "source": [
        "image=cv2.imread(\"/content/drive/My Drive/test.png\")\n",
        "tempimage=cv2.imread(\"/content/drive/My Drive/test.png\",0)\n",
        "image1=cv2.imread(\"/content/drive/My Drive/x_test1.png\")\n",
        "tempimage1=cv2.imread(\"/content/drive/My Drive/x_test1.png\",0)\n",
        "image2=cv2.imread(\"/content/drive/My Drive/x_test2.png\")\n",
        "tempimage2=cv2.imread(\"/content/drive/My Drive/x_test2.png\",0)\n",
        "image3=cv2.imread(\"/content/drive/My Drive/x_test3.png\")\n",
        "tempimage3=cv2.imread(\"/content/drive/My Drive/x_test3.png\",0)\n",
        "image4=cv2.imread(\"/content/drive/My Drive/x_test4.png\")\n",
        "tempimage4=cv2.imread(\"/content/drive/My Drive/x_test4.png\",0)"
      ],
      "execution_count": null,
      "outputs": []
    },
    {
      "cell_type": "code",
      "metadata": {
        "id": "vM0aTx3_XbLN"
      },
      "source": [
        "def FrequencyTunedSaliencyMap(image,tempimage):\n",
        "  gaussimg=cv2.GaussianBlur(image,(5,5),0,0)\n",
        "  print(image.shape)\n",
        "  rows,cols=image.shape[0],image.shape[1]\n",
        "  averages=[0,0,0]\n",
        "  imgSal=np.zeros((rows,cols))\n",
        "  for i in range(rows):\n",
        "    for j in range(cols):\n",
        "      x=gaussimg[i][j][0]\n",
        "      y=gaussimg[i][j][1]\n",
        "      z=gaussimg[i][j][2]\n",
        "      averages[0]+=x\n",
        "      averages[1]+=y\n",
        "      averages[2]+=z\n",
        "  averages=np.array(averages)\n",
        "  averages=averages/(rows*cols)\n",
        "  print(averages)\n",
        "  for i in range(rows):\n",
        "    for j in range(cols):\n",
        "      x=gaussimg[i][j][0]\n",
        "      y=gaussimg[i][j][1]\n",
        "      z=gaussimg[i][j][2]\n",
        "      imgSal[i,j]=(float) ((x-averages[0])**2 + (y-averages[1])**2 + (z-averages[2])**2)\n",
        "  print(imgSal[102,102])\n",
        "  \n",
        "  new_image=cv2.normalize(imgSal,0,255,norm_type=cv2.NORM_MINMAX)\n",
        "  plt.imsave('ftms3.png', new_image,cmap=\"gray\")\n",
        "  cv2_imshow(new_image)\n",
        "\n"
      ],
      "execution_count": null,
      "outputs": []
    },
    {
      "cell_type": "code",
      "metadata": {
        "id": "PgYvtYpmS2-a"
      },
      "source": [
        "def spectralsaliency(image):\n",
        "  sm=cv2.saliency.StaticSaliencySpectralResidual_create()\n",
        "  (success, saliencyMap) = sm.computeSaliency(image)\n",
        "  saliencyMap = (saliencyMap * 255).astype(\"uint8\")\n",
        "  threshMap = cv2.threshold(saliencyMap.astype(\"uint8\"), 0, 255,\n",
        "\tcv2.THRESH_BINARY | cv2.THRESH_OTSU)[1]\n",
        "  plt.imsave('spectralsaliency4.png', saliencyMap,cmap=\"gray\")\n",
        "  cv2_imshow(threshMap)"
      ],
      "execution_count": null,
      "outputs": []
    },
    {
      "cell_type": "code",
      "metadata": {
        "id": "rrm0KdQEUaiX"
      },
      "source": [
        "def finegrainedsaliency(image):\n",
        "  # initialize OpenCV's static fine grained saliency detector and\n",
        "  # compute the saliency map\n",
        "  saliency = cv2.saliency.StaticSaliencyFineGrained_create()\n",
        "  (success, saliencyMap) = saliency.computeSaliency(image)\n",
        "  saliencyMap = (saliencyMap * 255).astype(\"uint8\")\n",
        "  # if we would like a *binary* map that we could process for contours,\n",
        "  # compute convex hull's, extract bounding boxes, etc., we can\n",
        "  # additionally threshold the saliency map\n",
        "  threshMap = cv2.threshold(saliencyMap.astype(\"uint8\"), 0, 255,\n",
        "    cv2.THRESH_BINARY | cv2.THRESH_OTSU)[1]\n",
        "  # show the images\n",
        "  plt.imsave('finegrainedsaliency4.png', saliencyMap,cmap=\"gray\")\n",
        "  cv2_imshow(saliencyMap)"
      ],
      "execution_count": null,
      "outputs": []
    },
    {
      "cell_type": "code",
      "metadata": {
        "id": "dlsz7j3GxxXM"
      },
      "source": [
        "FrequencyTunedSaliencyMap(image3,tempimage3)"
      ],
      "execution_count": null,
      "outputs": []
    },
    {
      "cell_type": "code",
      "metadata": {
        "colab": {
          "base_uri": "https://localhost:8080/",
          "height": 480
        },
        "id": "aEYuCzcfxzT8",
        "outputId": "100f7689-549e-44e7-9026-17f0c943a3e9"
      },
      "source": [
        "spectralsaliency(image4)"
      ],
      "execution_count": null,
      "outputs": [
        {
          "output_type": "display_data",
          "data": {
            "image/png": "[encoded data removed]",
            "text/plain": [
              "<PIL.Image.Image image mode=L size=512x463 at 0x7FE8D22AA9E8>"
            ]
          },
          "metadata": {
            "tags": []
          }
        }
      ]
    },
    {
      "cell_type": "code",
      "metadata": {
        "colab": {
          "base_uri": "https://localhost:8080/",
          "height": 480
        },
        "id": "doNVkWVuTVut",
        "outputId": "af254c27-5e71-4967-96aa-f2018241adc6"
      },
      "source": [
        "finegrainedsaliency(image4)"
      ],
      "execution_count": null,
      "outputs": [
        {
          "output_type": "display_data",
          "data": {
            "image/png": "[encoded data removed]",
            "text/plain": [
              "<PIL.Image.Image image mode=L size=512x463 at 0x7FE8D4850D68>"
            ]
          },
          "metadata": {
            "tags": []
          }
        }
      ]
    },
    {
      "cell_type": "code",
      "metadata": {
        "id": "v_NzlGBYAQJk"
      },
      "source": [
        "col_name=[\"Orignal Image\",\"Frequency Tuned Saliency Maps\",\"Fine Grained saliency maps\",\"Spectral Residual Saliency maps\"]"
      ],
      "execution_count": null,
      "outputs": []
    },
    {
      "cell_type": "code",
      "metadata": {
        "id": "lMCTxogRAn5z"
      },
      "source": [
        "my_df=pd.DataFrame(columns=col_name)"
      ],
      "execution_count": null,
      "outputs": []
    },
    {
      "cell_type": "code",
      "metadata": {
        "id": "V1BRCMqbBMOs"
      },
      "source": [
        "\n",
        "!cp ftms.png \"drive/My Drive/\"\n",
        "\n",
        "!cp spectralsaliency.png \"drive/My Drive/\"\n",
        "\n",
        "!cp finegrainedsaliency.png \"drive/My Drive/\"\n",
        "\n",
        "\n",
        "!cp ftms1.png \"drive/My Drive/\"\n",
        "\n",
        "!cp spectralsaliency1.png \"drive/My Drive/\"\n",
        "\n",
        "!cp finegrainedsaliency1.png \"drive/My Drive/\"\n",
        "\n",
        "\n",
        "!cp ftms2.png \"drive/My Drive/\"\n",
        "\n",
        "!cp spectralsaliency2.png \"drive/My Drive/\"\n",
        "\n",
        "!cp finegrainedsaliency2.png \"drive/My Drive/\"\n",
        "\n",
        "\n",
        "!cp ftms3.png \"drive/My Drive/\"\n",
        "\n",
        "!cp spectralsaliency3.png \"drive/My Drive/\"\n",
        "\n",
        "!cp finegrainedsaliency3.png \"drive/My Drive/\"\n",
        "\n",
        "\n",
        "!cp ftms4.png \"drive/My Drive/\"\n",
        "\n",
        "!cp spectralsaliency4.png \"drive/My Drive/\"\n",
        "\n",
        "!cp finegrainedsaliency4.png \"drive/My Drive/\""
      ],
      "execution_count": null,
      "outputs": []
    },
    {
      "cell_type": "code",
      "metadata": {
        "id": "zNFAH-u2CFoj"
      },
      "source": [
        "country=[\"/content/drive/My Drive/test.png\",\"/content/ftms.png\",\"/content/finegrainedsaliency.png\",\"/content/spectralsaliency.png\"]\n",
        "country1=[\"/content/drive/My Drive/x_test1.png\",\"/content/ftms1.png\",\"/content/finegrainedsaliency1.png\",\"/content/spectralsaliency1.png\"]\n",
        "country2=[\"/content/drive/My Drive/x_test2.png\",\"/content/ftms2.png\",\"/content/finegrainedsaliency2.png\",\"/content/spectralsaliency2.png\"]\n",
        "country3=[\"/content/drive/My Drive/x_test3.png\",\"/content/ftms3.png\",\"/content/finegrainedsaliency3.png\",\"/content/spectralsaliency3.png\"]\n",
        "country4=[\"/content/drive/My Drive/x_test4.png\",\"/content/ftms4.png\",\"/content/finegrainedsaliency4.png\",\"/content/spectralsaliency4.png\"]"
      ],
      "execution_count": null,
      "outputs": []
    },
    {
      "cell_type": "code",
      "metadata": {
        "id": "s-DXU65RCZ7v"
      },
      "source": [
        "length=len(my_df)"
      ],
      "execution_count": null,
      "outputs": []
    },
    {
      "cell_type": "code",
      "metadata": {
        "id": "9uGuKf-4C29p",
        "colab": {
          "base_uri": "https://localhost:8080/"
        },
        "outputId": "7c8377a8-1065-4609-9a18-fe8dc2703bcf"
      },
      "source": [
        "length"
      ],
      "execution_count": null,
      "outputs": [
        {
          "output_type": "execute_result",
          "data": {
            "text/plain": [
              "1"
            ]
          },
          "metadata": {
            "tags": []
          },
          "execution_count": 68
        }
      ]
    },
    {
      "cell_type": "code",
      "metadata": {
        "colab": {
          "base_uri": "https://localhost:8080/",
          "height": 47
        },
        "id": "Zd7E3RuTC6WQ",
        "outputId": "5c368f50-cdfc-4133-94c0-f6aadd2c6e96"
      },
      "source": [
        "my_df.head()"
      ],
      "execution_count": null,
      "outputs": [
        {
          "output_type": "execute_result",
          "data": {
            "text/html": [
              "<div>\n",
              "<style scoped>\n",
              "    .dataframe tbody tr th:only-of-type {\n",
              "        vertical-align: middle;\n",
              "    }\n",
              "\n",
              "    .dataframe tbody tr th {\n",
              "        vertical-align: top;\n",
              "    }\n",
              "\n",
              "    .dataframe thead th {\n",
              "        text-align: right;\n",
              "    }\n",
              "</style>\n",
              "<table border=\"1\" class=\"dataframe\">\n",
              "  <thead>\n",
              "    <tr style=\"text-align: right;\">\n",
              "      <th></th>\n",
              "      <th>Orignal Image</th>\n",
              "      <th>Frequency Tuned Saliency Maps</th>\n",
              "      <th>Fine Grained saliency maps</th>\n",
              "      <th>Spectral Residual Saliency maps</th>\n",
              "    </tr>\n",
              "  </thead>\n",
              "  <tbody>\n",
              "  </tbody>\n",
              "</table>\n",
              "</div>"
            ],
            "text/plain": [
              "Empty DataFrame\n",
              "Columns: [Orignal Image, Frequency Tuned Saliency Maps, Fine Grained saliency maps, Spectral Residual Saliency maps]\n",
              "Index: []"
            ]
          },
          "metadata": {
            "tags": []
          },
          "execution_count": 58
        }
      ]
    },
    {
      "cell_type": "code",
      "metadata": {
        "colab": {
          "base_uri": "https://localhost:8080/"
        },
        "id": "yNUZ9s4ZC_Jp",
        "outputId": "10a04d7d-a5da-4f3a-e58c-9a956fe3e86b"
      },
      "source": [
        "import glob\n",
        "import random\n",
        "import base64\n",
        "import pandas as pd\n",
        "\n",
        "from PIL import Image\n",
        "from io import BytesIO\n",
        "from IPython.display import HTML\n",
        "import io\n",
        "\n",
        "pd.set_option('display.max_colwidth', -1)\n",
        "\n",
        "\n",
        "def get_thumbnail(path):\n",
        "     # This \"\\\\\\\\?\\\\\" is used to prevent problems with long Windows paths\n",
        "    i = Image.open(path)    \n",
        "    return i\n",
        "\n",
        "def image_base64(im):\n",
        "    if isinstance(im, str):\n",
        "        im = get_thumbnail(im)\n",
        "    with BytesIO() as buffer:\n",
        "        im.save(buffer, 'png')\n",
        "        return base64.b64encode(buffer.getvalue()).decode()\n",
        "\n",
        "def image_formatter(im):\n",
        "    return f'<img src=\"data:image/jpeg;base64,{image_base64(im)}\">'"
      ],
      "execution_count": null,
      "outputs": [
        {
          "output_type": "stream",
          "text": [
            "/usr/local/lib/python3.6/dist-packages/ipykernel_launcher.py:11: FutureWarning: Passing a negative integer is deprecated in version 1.0 and will not be supported in future version. Instead, use None to not limit the column width.\n",
            "  # This is added back by InteractiveShellApp.init_path()\n"
          ],
          "name": "stderr"
        }
      ]
    },
    {
      "cell_type": "code",
      "metadata": {
        "id": "Mg87iEBMISHT"
      },
      "source": [
        "c1=list(map(lambda f: get_thumbnail(f),country))\n",
        "c2=list(map(lambda f: get_thumbnail(f),country1))\n",
        "c3=list(map(lambda f: get_thumbnail(f),country2))\n",
        "c4=list(map(lambda f: get_thumbnail(f),country3))\n",
        "c5=list(map(lambda f: get_thumbnail(f),country4))"
      ],
      "execution_count": null,
      "outputs": []
    },
    {
      "cell_type": "code",
      "metadata": {
        "colab": {
          "base_uri": "https://localhost:8080/"
        },
        "id": "wdeqI_jaJBZa",
        "outputId": "3d79f2c4-e657-403c-8afc-2fd338aad518"
      },
      "source": [
        "c1"
      ],
      "execution_count": null,
      "outputs": [
        {
          "output_type": "execute_result",
          "data": {
            "text/plain": [
              "[<PIL.PngImagePlugin.PngImageFile image mode=RGBA size=512x463 at 0x7FE8D22AD160>,\n",
              " <PIL.PngImagePlugin.PngImageFile image mode=RGBA size=512x463 at 0x7FE8D22AD208>,\n",
              " <PIL.PngImagePlugin.PngImageFile image mode=RGBA size=512x463 at 0x7FE8D22AD438>,\n",
              " <PIL.PngImagePlugin.PngImageFile image mode=RGBA size=512x463 at 0x7FE8D22AD9B0>]"
            ]
          },
          "metadata": {
            "tags": []
          },
          "execution_count": 66
        }
      ]
    },
    {
      "cell_type": "code",
      "metadata": {
        "id": "YaKOcieWJDAK"
      },
      "source": [
        "my_df.loc[length+1+1+1]=c5"
      ],
      "execution_count": null,
      "outputs": []
    },
    {
      "cell_type": "code",
      "metadata": {
        "colab": {
          "base_uri": "https://localhost:8080/",
          "height": 400
        },
        "id": "BMbrwJvWJlMa",
        "outputId": "6f62107e-cbca-4a3c-dc80-f3ce0ee10f8d"
      },
      "source": [
        "my_df.head()"
      ],
      "execution_count": null,
      "outputs": [
        {
          "output_type": "execute_result",
          "data": {
            "text/html": [
              "<div>\n",
              "<style scoped>\n",
              "    .dataframe tbody tr th:only-of-type {\n",
              "        vertical-align: middle;\n",
              "    }\n",
              "\n",
              "    .dataframe tbody tr th {\n",
              "        vertical-align: top;\n",
              "    }\n",
              "\n",
              "    .dataframe thead th {\n",
              "        text-align: right;\n",
              "    }\n",
              "</style>\n",
              "<table border=\"1\" class=\"dataframe\">\n",
              "  <thead>\n",
              "    <tr style=\"text-align: right;\">\n",
              "      <th></th>\n",
              "      <th>Orignal Image</th>\n",
              "      <th>Frequency Tuned Saliency Maps</th>\n",
              "      <th>Fine Grained saliency maps</th>\n",
              "      <th>Spectral Residual Saliency maps</th>\n",
              "    </tr>\n",
              "  </thead>\n",
              "  <tbody>\n",
              "    <tr>\n",
              "      <th>0</th>\n",
              "      <td>&lt;PIL.PngImagePlugin.PngImageFile image mode=RGBA size=512x463 at 0x7FE8D22AD160&gt;</td>\n",
              "      <td>&lt;PIL.PngImagePlugin.PngImageFile image mode=RGBA size=512x463 at 0x7FE8D22AD208&gt;</td>\n",
              "      <td>&lt;PIL.PngImagePlugin.PngImageFile image mode=RGBA size=512x463 at 0x7FE8D22AD438&gt;</td>\n",
              "      <td>&lt;PIL.PngImagePlugin.PngImageFile image mode=RGBA size=512x463 at 0x7FE8D22AD9B0&gt;</td>\n",
              "    </tr>\n",
              "    <tr>\n",
              "      <th>1</th>\n",
              "      <td>&lt;PIL.PngImagePlugin.PngImageFile image mode=RGBA size=512x463 at 0x7FE8D22AD668&gt;</td>\n",
              "      <td>&lt;PIL.PngImagePlugin.PngImageFile image mode=RGBA size=512x463 at 0x7FE8D22ADBE0&gt;</td>\n",
              "      <td>&lt;PIL.PngImagePlugin.PngImageFile image mode=RGBA size=512x463 at 0x7FE8D22AD3C8&gt;</td>\n",
              "      <td>&lt;PIL.PngImagePlugin.PngImageFile image mode=RGBA size=512x463 at 0x7FE8D22AD048&gt;</td>\n",
              "    </tr>\n",
              "    <tr>\n",
              "      <th>2</th>\n",
              "      <td>&lt;PIL.PngImagePlugin.PngImageFile image mode=RGBA size=512x463 at 0x7FE8D22ADEB8&gt;</td>\n",
              "      <td>&lt;PIL.PngImagePlugin.PngImageFile image mode=RGBA size=512x463 at 0x7FE8D22AD6D8&gt;</td>\n",
              "      <td>&lt;PIL.PngImagePlugin.PngImageFile image mode=RGBA size=512x463 at 0x7FE8D22ADE80&gt;</td>\n",
              "      <td>&lt;PIL.PngImagePlugin.PngImageFile image mode=RGBA size=512x463 at 0x7FE8D22ADD30&gt;</td>\n",
              "    </tr>\n",
              "    <tr>\n",
              "      <th>3</th>\n",
              "      <td>&lt;PIL.PngImagePlugin.PngImageFile image mode=RGBA size=512x463 at 0x7FE8D22ADD68&gt;</td>\n",
              "      <td>&lt;PIL.PngImagePlugin.PngImageFile image mode=RGBA size=512x463 at 0x7FE8D22AD198&gt;</td>\n",
              "      <td>&lt;PIL.PngImagePlugin.PngImageFile image mode=RGBA size=512x463 at 0x7FE8D22ADCF8&gt;</td>\n",
              "      <td>&lt;PIL.PngImagePlugin.PngImageFile image mode=RGBA size=512x463 at 0x7FE8D22ADF28&gt;</td>\n",
              "    </tr>\n",
              "    <tr>\n",
              "      <th>4</th>\n",
              "      <td>&lt;PIL.PngImagePlugin.PngImageFile image mode=RGBA size=512x463 at 0x7FE8D22ADFD0&gt;</td>\n",
              "      <td>&lt;PIL.PngImagePlugin.PngImageFile image mode=RGBA size=512x463 at 0x7FE8D1C01048&gt;</td>\n",
              "      <td>&lt;PIL.PngImagePlugin.PngImageFile image mode=RGBA size=512x463 at 0x7FE8D1C010B8&gt;</td>\n",
              "      <td>&lt;PIL.PngImagePlugin.PngImageFile image mode=RGBA size=512x463 at 0x7FE8D1C01128&gt;</td>\n",
              "    </tr>\n",
              "  </tbody>\n",
              "</table>\n",
              "</div>"
            ],
            "text/plain": [
              "                                                                      Orignal Image  ...                                                   Spectral Residual Saliency maps\n",
              "0  <PIL.PngImagePlugin.PngImageFile image mode=RGBA size=512x463 at 0x7FE8D22AD160>  ...  <PIL.PngImagePlugin.PngImageFile image mode=RGBA size=512x463 at 0x7FE8D22AD9B0>\n",
              "1  <PIL.PngImagePlugin.PngImageFile image mode=RGBA size=512x463 at 0x7FE8D22AD668>  ...  <PIL.PngImagePlugin.PngImageFile image mode=RGBA size=512x463 at 0x7FE8D22AD048>\n",
              "2  <PIL.PngImagePlugin.PngImageFile image mode=RGBA size=512x463 at 0x7FE8D22ADEB8>  ...  <PIL.PngImagePlugin.PngImageFile image mode=RGBA size=512x463 at 0x7FE8D22ADD30>\n",
              "3  <PIL.PngImagePlugin.PngImageFile image mode=RGBA size=512x463 at 0x7FE8D22ADD68>  ...  <PIL.PngImagePlugin.PngImageFile image mode=RGBA size=512x463 at 0x7FE8D22ADF28>\n",
              "4  <PIL.PngImagePlugin.PngImageFile image mode=RGBA size=512x463 at 0x7FE8D22ADFD0>  ...  <PIL.PngImagePlugin.PngImageFile image mode=RGBA size=512x463 at 0x7FE8D1C01128>\n",
              "\n",
              "[5 rows x 4 columns]"
            ]
          },
          "metadata": {
            "tags": []
          },
          "execution_count": 74
        }
      ]
    },
    {
      "cell_type": "code",
      "metadata": {
        "id": "KgKX1zA2Jm50"
      },
      "source": [
        "from IPython.display import HTML "
      ],
      "execution_count": null,
      "outputs": []
    },
    {
      "cell_type": "code",
      "metadata": {
        "id": "f6MfkCmTJ67x"
      },
      "source": [
        "html = my_df.to_html() \n",
        "  \n",
        "# write html to file \n",
        "text_file = open(\"index.html\", \"w\") \n",
        "text_file.write(html) \n",
        "text_file.close() \n"
      ],
      "execution_count": null,
      "outputs": []
    },
    {
      "cell_type": "code",
      "metadata": {
        "id": "iaAp_YzWLnkq"
      },
      "source": [
        "html=(my_df.to_html(formatters={'Orignal Image': image_formatter,'Frequency Tuned Saliency Maps': image_formatter,'Fine Grained saliency maps': image_formatter,'Spectral Residual Saliency maps': image_formatter}, escape=False))\n",
        "text_file = open(\"table.html\", \"w\") \n",
        "text_file.write(html) \n",
        "text_file.close() "
      ],
      "execution_count": null,
      "outputs": []
    },
    {
      "cell_type": "code",
      "metadata": {
        "id": "eM6fEH8Qz-8M"
      },
      "source": [
        "  HBC(image)"
      ],
      "execution_count": null,
      "outputs": []
    },
    {
      "cell_type": "code",
      "metadata": {
        "id": "6GELnF-4kvqW"
      },
      "source": [
        "import copy"
      ],
      "execution_count": null,
      "outputs": []
    },
    {
      "cell_type": "code",
      "metadata": {
        "id": "ITTKRSdsiy1X"
      },
      "source": [
        "\n",
        "def sqr(x):\n",
        "    return x * x\n",
        "def sqrDist(l1, l2):\n",
        "    return np.sum(np.power(np.array(l1,np.float32) - np.array(l2,np.float32),2))\n",
        "def dist(l1, l2):\n",
        "    return np.sqrt(sqrDist(l1, l2))\n",
        "def Quantize(img3f,ratio=0.95,colorNums=(12,12,12)):\n",
        "    clrTmp = [i - 0.0001 for i in colorNums]\n",
        "    w = [colorNums[1] * colorNums[2],colorNums[2],1]\n",
        "    idx1i = np.zeros((img3f.shape[0],img3f.shape[1]),np.int32)\n",
        "    width = img3f.shape[1]\n",
        "    height = img3f.shape[0]\n",
        "    height_range =range(height)\n",
        "    width_range = range(width)\n",
        "    #build color pallet\n",
        "    pallet = {}\n",
        "    for y in height_range:\n",
        "        for x in width_range:\n",
        "            idx1i[y,x] = int(img3f[y,x,0]*clrTmp[0]) * w[0] + int(img3f[y,x,1] * clrTmp[1]) * w[1] + int(img3f[y,x,2] * clrTmp[2] )\n",
        "            if idx1i[y,x] not in pallet.keys():\n",
        "                pallet[idx1i[y,x]] = 1\n",
        "            else:\n",
        "                pallet[idx1i[y,x]] += 1\n",
        "    #Find significant colors\n",
        "    maxNum = 0\n",
        "    num = [(pallet[key],key) for key in pallet] #(num,color) pairs in num\n",
        "    num.sort(reverse=True)\n",
        "    maxNum = len(num)\n",
        "    maxDropNum = int(np.round(height*width*(1-ratio)))\n",
        "    crnt = num[maxNum-1][0]\n",
        "    while crnt < maxDropNum and maxNum > 1:\n",
        "        crnt += num[maxNum-2][0]\n",
        "        maxNum -= 1\n",
        "    maxNum = 256 if maxNum > 256 else maxNum # To avoid very rarely case\n",
        "    if maxNum <= 10:\n",
        "        maxNum = 10 if len(num) > 10 else len(num)\n",
        "    pallet.clear()\n",
        "    for i in range(maxNum):\n",
        "        pallet[num[i][1]] = i\n",
        "    color3i = [[int(num[i][1] / w[0]),int(num[i][1] % w[0] / w[1]),int(num[i][1] % w[1])] for i in range(len(num))]\n",
        "    for i in range(maxNum,len(num)):\n",
        "        simIdx = 0\n",
        "        simVal = (1 << 31) - 1 # int32 max\n",
        "        for j in range(maxNum):\n",
        "            d_ij = sqrDist(color3i[i],color3i[j])\n",
        "            if d_ij < simVal:\n",
        "                simVal = d_ij\n",
        "                simIdx = j\n",
        "        pallet[num[i][1]] = pallet[num[simIdx][1]]\n",
        "    color3f = np.zeros((1,maxNum,3),np.float32)\n",
        "    colorNum = np.zeros((1,maxNum),np.int32)\n",
        "    for y in height_range:\n",
        "        for x in width_range:\n",
        "            idx1i[y,x] = pallet[idx1i[y,x]]\n",
        "            color3f[0,idx1i[y,x]] += img3f[y,x]\n",
        "            colorNum[0,idx1i[y,x]] += 1\n",
        "    for i in range(color3f.shape[1]):\n",
        "        color3f[0,i] /= colorNum[0,i]\n",
        "    return color3f.shape[1],idx1i,color3f,colorNum\n",
        "def SmoothBySaliency(colorNums1i,sal1f,delta,similar):\n",
        "    if sal1f.shape[1] < 2:\n",
        "        return\n",
        "    binN = sal1f.shape[1]\n",
        "    newSal1d = np.zeros((1,binN),np.float64)\n",
        "    tmpNum = int(np.round(binN*delta))\n",
        "    n =  tmpNum if tmpNum > 2 else 2\n",
        "    dist = [0.0 for _ in range(n)]\n",
        "    val = copy.deepcopy(dist)\n",
        "    w = copy.deepcopy(dist)\n",
        "    binN_range = range(binN)\n",
        "    n_range = range(n)\n",
        "    for i in binN_range:\n",
        "        totalDist = 0.0\n",
        "        totalWeight = 0.0\n",
        "        for j in n_range:\n",
        "            ithIdx = similar[i][j][1]\n",
        "            dist[j] = similar[i][j][0]\n",
        "            val[j] = sal1f[0,ithIdx]\n",
        "            w[j] = colorNums1i[0,ithIdx]\n",
        "            totalDist += dist[j]\n",
        "            totalWeight += w[j]\n",
        "        valCrnt = 0.0\n",
        "        for j in n_range:\n",
        "            valCrnt += val[j] * (totalDist - dist[j]) * w[j]\n",
        "        #print(valCrnt,totalDist,totalWeight)\n",
        "        newSal1d[0,i] = valCrnt / (totalDist * totalWeight)\n",
        "    cv2.normalize(newSal1d,sal1f,0,1,cv2.NORM_MINMAX)\n",
        "\n",
        "def GetHC(img3f):\n",
        "    binN,idx1i,binColor3f,colorNums1i = Quantize(img3f)\n",
        "    print(binN)\n",
        "    cv2.cvtColor(binColor3f,cv2.COLOR_BGR2Lab,binColor3f)\n",
        "    weight1f = np.zeros(colorNums1i.shape,np.float32)\n",
        "    cv2.normalize(colorNums1i.astype(np.float32),weight1f,1,0,cv2.NORM_L1)\n",
        "    colorSal = np.zeros((1,binN),np.float64)\n",
        "    similar = [[] for _ in range(binN)]\n",
        "    for i in range(binN):\n",
        "        similar[i].append([0.0,i])\n",
        "        for j in range(binN):\n",
        "            if i != j:\n",
        "                dij = dist(binColor3f[0,i],binColor3f[0,j])\n",
        "                similar[i].append([dij,j])\n",
        "                colorSal[0,i] += weight1f[0,j] * dij\n",
        "        similar[i].sort()\n",
        "    SmoothBySaliency(np.ones(colorSal.shape,np.int32),colorSal,0.25,similar)\n",
        "    salHC1f = np.zeros((img3f.shape[0],img3f.shape[1]),np.float64)\n",
        "    width = img3f.shape[1]\n",
        "    height = img3f.shape[0]\n",
        "    h_range = range(height)\n",
        "    w_range = range(width)\n",
        "    for y in h_range:\n",
        "        for x in w_range:\n",
        "            salHC1f[y,x] = colorSal[0,idx1i[y,x]]\n",
        "    cv2.GaussianBlur(salHC1f,(3,3),0,salHC1f)\n",
        "    cv2.normalize(salHC1f,salHC1f,0,1,cv2.NORM_MINMAX)\n",
        "    return salHC1f"
      ],
      "execution_count": null,
      "outputs": []
    },
    {
      "cell_type": "code",
      "metadata": {
        "id": "X5zg2rv6js7N"
      },
      "source": [
        "def getGCSM(img3i):\n",
        "  img3f = img3i.astype(np.float32)\n",
        "  print(np.min(img3f),np.max(img3f))\n",
        "  \n",
        "  img3f *= 1. / 255\n",
        "  sal=(GetHC(img3f))\n",
        "  start = cv2.getTickCount()\n",
        "  end = cv2.getTickCount()\n",
        "  idxs = np.where(sal < (sal.max()+sal.min()) / 1.8)\n",
        "  img3i[idxs] = 0\n",
        "  return sal\n",
        "  sal = sal * 255\n",
        "  sal = sal.astype(np.int16)\n",
        "  cv2_imshow(sal.astype(np.int8))\n",
        "  cv2_imshow(img3i)\n",
        "  print(np.min(sal)) \n",
        "  print(np.max(sal))\n",
        "  plt.imsave('GCSMtest.png', sal,cmap=\"gray\")\n",
        "  \n",
        "  "
      ],
      "execution_count": null,
      "outputs": []
    },
    {
      "cell_type": "code",
      "metadata": {
        "id": "ISwubyCX3okK"
      },
      "source": [
        "img3f = image.astype(np.float32)"
      ],
      "execution_count": null,
      "outputs": []
    },
    {
      "cell_type": "code",
      "metadata": {
        "colab": {
          "base_uri": "https://localhost:8080/"
        },
        "id": "oeQJ6ta4jvRW",
        "outputId": "97f589f8-0979-4729-fa51-77f3510f65f2"
      },
      "source": [
        "sal=getGCSM(image)"
      ],
      "execution_count": null,
      "outputs": [
        {
          "output_type": "stream",
          "text": [
            "0.0 255.0\n",
            "6\n"
          ],
          "name": "stdout"
        }
      ]
    },
    {
      "cell_type": "code",
      "metadata": {
        "colab": {
          "base_uri": "https://localhost:8080/",
          "height": 352
        },
        "id": "y5YUQAX63v1V",
        "outputId": "5fc40725-df44-471f-b121-bce8c06857b2"
      },
      "source": [
        "plt.hist(np.histogram(sal,bins=1))"
      ],
      "execution_count": null,
      "outputs": [
        {
          "output_type": "execute_result",
          "data": {
            "text/plain": [
              "(array([[0., 0., 0., 0., 0., 0., 0., 0., 0., 1.],\n",
              "        [2., 0., 0., 0., 0., 0., 0., 0., 0., 0.]]),\n",
              " array([     0. ,  23705.6,  47411.2,  71116.8,  94822.4, 118528. ,\n",
              "        142233.6, 165939.2, 189644.8, 213350.4, 237056. ]),\n",
              " <a list of 2 Lists of Patches objects>)"
            ]
          },
          "metadata": {
            "tags": []
          },
          "execution_count": 159
        },
        {
          "output_type": "display_data",
          "data": {
            "image/png": "[encoded data removed]",
            "text/plain": [
              "<Figure size 432x288 with 1 Axes>"
            ]
          },
          "metadata": {
            "tags": [],
            "needs_background": "light"
          }
        }
      ]
    },
    {
      "cell_type": "code",
      "metadata": {
        "colab": {
          "base_uri": "https://localhost:8080/"
        },
        "id": "S8TNVv_04_lO",
        "outputId": "a72b4a97-cd23-42e1-9ff3-a35e02f2a4aa"
      },
      "source": [
        "np.unique(sal)"
      ],
      "execution_count": null,
      "outputs": [
        {
          "output_type": "execute_result",
          "data": {
            "text/plain": [
              "array([0.        , 0.71216609, 0.77652161, 0.85342859, 0.93477111,\n",
              "       1.        ])"
            ]
          },
          "metadata": {
            "tags": []
          },
          "execution_count": 160
        }
      ]
    },
    {
      "cell_type": "code",
      "metadata": {
        "id": "kqvAz2jpz643"
      },
      "source": [
        ""
      ],
      "execution_count": null,
      "outputs": []
    },
    {
      "cell_type": "markdown",
      "metadata": {
        "id": "ry-o25h-5QBd"
      },
      "source": [
        "Read Medical Image Segmentation - \n",
        "  1) look at CNN models \n",
        "  2) Hybrid Deep Neural Networks \n",
        "  3) Probability maps for images \n",
        "  4) Segmentation MICCAI"
      ]
    }
  ]
}
